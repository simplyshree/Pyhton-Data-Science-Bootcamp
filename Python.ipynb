{
  "cells": [
    {
      "cell_type": "code",
      "source": [
        "import numpy as np\n"
      ],
      "metadata": {
        "id": "et61h424v9e_"
      },
      "execution_count": 1,
      "outputs": []
    },
    {
      "cell_type": "code",
      "source": [
        "heights = [165,170,171,180,189,178]\n",
        "\n",
        "print(type(heights))\n",
        "\n",
        "heights_np = np.array(heights)\n",
        "print(heights_np)\n",
        "print(type(heights_np))"
      ],
      "metadata": {
        "colab": {
          "base_uri": "https://localhost:8080/"
        },
        "id": "si64G2wxWrFz",
        "outputId": "01cb80e2-ed72-456a-fa82-e859cdae8137"
      },
      "execution_count": 3,
      "outputs": [
        {
          "output_type": "stream",
          "name": "stdout",
          "text": [
            "<class 'list'>\n",
            "[165 170 171 180 189 178]\n",
            "<class 'numpy.ndarray'>\n"
          ]
        }
      ]
    },
    {
      "cell_type": "code",
      "source": [
        "weights = np.array([[50,60,70,55],[88,56,89,33]])\n",
        "print(weights.dtype)\n",
        "print('weights',weights)\n",
        "\n",
        "weights\n",
        "#all numpy array datatype must be same"
      ],
      "metadata": {
        "colab": {
          "base_uri": "https://localhost:8080/"
        },
        "id": "s0O4dfJQXG2P",
        "outputId": "80e0235b-82e5-47de-b399-d297af537a6e"
      },
      "execution_count": 8,
      "outputs": [
        {
          "output_type": "stream",
          "name": "stdout",
          "text": [
            "int64\n",
            "weights [[50 60 70 55]\n",
            " [88 56 89 33]]\n"
          ]
        },
        {
          "output_type": "execute_result",
          "data": {
            "text/plain": [
              "array([[50, 60, 70, 55],\n",
              "       [88, 56, 89, 33]])"
            ]
          },
          "metadata": {},
          "execution_count": 8
        }
      ]
    },
    {
      "cell_type": "code",
      "source": [
        " #attribute of np array\n",
        "\n",
        " # .reshape() to change the matrix structure of array\n",
        "\n",
        "\n",
        " fruits = np.array([['apple','pear','berry'],['guava','melon','lemon']])\n",
        "\n",
        "print(fruits)\n",
        "\n",
        "print(fruits.dtype)\n",
        "print(fruits.shape)\n",
        "\n",
        "new_fruits = np.reshape(fruits,(3,2))\n",
        "print(new_fruits)"
      ],
      "metadata": {
        "colab": {
          "base_uri": "https://localhost:8080/"
        },
        "id": "tce8wNmeYBkf",
        "outputId": "4e68048a-3bb9-4415-a9cd-011c2cf8449a"
      },
      "execution_count": 20,
      "outputs": [
        {
          "output_type": "stream",
          "name": "stdout",
          "text": [
            "[['apple' 'pear' 'berry']\n",
            " ['guava' 'melon' 'lemon']]\n",
            "<U5\n",
            "(2, 3)\n",
            "[['apple' 'pear']\n",
            " ['berry' 'guava']\n",
            " ['melon' 'lemon']]\n"
          ]
        }
      ]
    }
  ],
  "metadata": {
    "colab": {
      "provenance": [],
      "authorship_tag": "ABX9TyOEjjJJCv1BIpOrF7H2KOF0"
    },
    "kernelspec": {
      "display_name": "Python 3",
      "name": "python3"
    },
    "language_info": {
      "name": "python"
    }
  },
  "nbformat": 4,
  "nbformat_minor": 0
}
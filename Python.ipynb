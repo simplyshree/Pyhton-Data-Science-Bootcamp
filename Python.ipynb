{
  "cells": [
    {
      "cell_type": "code",
      "source": [
        "import numpy as np\n"
      ],
      "metadata": {
        "id": "et61h424v9e_"
      },
      "execution_count": 1,
      "outputs": []
    },
    {
      "cell_type": "code",
      "source": [
        "heights = [165,170,171,180,189,178]\n",
        "\n",
        "print(type(heights))\n",
        "\n",
        "heights_np = np.array(heights)\n",
        "print(heights_np)\n",
        "print(type(heights_np))"
      ],
      "metadata": {
        "colab": {
          "base_uri": "https://localhost:8080/"
        },
        "id": "si64G2wxWrFz",
        "outputId": "01cb80e2-ed72-456a-fa82-e859cdae8137"
      },
      "execution_count": 3,
      "outputs": [
        {
          "output_type": "stream",
          "name": "stdout",
          "text": [
            "<class 'list'>\n",
            "[165 170 171 180 189 178]\n",
            "<class 'numpy.ndarray'>\n"
          ]
        }
      ]
    },
    {
      "cell_type": "code",
      "source": [
        "weights = np.array([[50,60,70,55],[88,56,89,33]])\n",
        "print(weights.dtype)\n",
        "print('weights',weights)\n",
        "\n",
        "weights\n",
        "#all numpy array datatype must be same"
      ],
      "metadata": {
        "colab": {
          "base_uri": "https://localhost:8080/"
        },
        "id": "s0O4dfJQXG2P",
        "outputId": "93dd168a-e101-44e2-8394-b6633a9a7413"
      },
      "execution_count": 26,
      "outputs": [
        {
          "output_type": "stream",
          "name": "stdout",
          "text": [
            "int64\n",
            "weights [[50 60 70 55]\n",
            " [88 56 89 33]]\n"
          ]
        },
        {
          "output_type": "execute_result",
          "data": {
            "text/plain": [
              "array([[50, 60, 70, 55],\n",
              "       [88, 56, 89, 33]])"
            ]
          },
          "metadata": {},
          "execution_count": 26
        }
      ]
    },
    {
      "cell_type": "code",
      "source": [
        " #attribute of np array\n",
        "\n",
        " # .reshape() to change the matrix structure of array\n",
        "\n",
        "\n",
        " fruits = np.array([['apple','pear','berry'],['guava','melon','lemon']])\n",
        "\n",
        "print(fruits)\n",
        "\n",
        "print(fruits.dtype)\n",
        "print(fruits.shape)\n",
        "print(fruits.size)\n",
        "print(fruits.strides)  #varies in machines\n",
        "\n",
        "new_fruits = np.reshape(fruits,(3,2))   # or fruits.reshape(3.2)\n",
        "print(new_fruits)"
      ],
      "metadata": {
        "colab": {
          "base_uri": "https://localhost:8080/"
        },
        "id": "tce8wNmeYBkf",
        "outputId": "84c6fad0-caa1-4291-c852-1a542aca88b2"
      },
      "execution_count": 22,
      "outputs": [
        {
          "output_type": "stream",
          "name": "stdout",
          "text": [
            "[['apple' 'pear' 'berry']\n",
            " ['guava' 'melon' 'lemon']]\n",
            "<U5\n",
            "(2, 3)\n",
            "6\n",
            "(60, 20)\n",
            "[['apple' 'pear']\n",
            " ['berry' 'guava']\n",
            " ['melon' 'lemon']]\n"
          ]
        }
      ]
    },
    {
      "cell_type": "code",
      "source": [
        "#covert 1d to 3d\n",
        "\n",
        "\n",
        "weights_new = weights.reshape(6,4,4,1)\n",
        "weights_new\n"
      ],
      "metadata": {
        "colab": {
          "base_uri": "https://localhost:8080/",
          "height": 193
        },
        "id": "RhVgmUz9d6vd",
        "outputId": "f4cce4e0-8bf5-4326-8a2d-90a6e3f0a7ec"
      },
      "execution_count": 28,
      "outputs": [
        {
          "output_type": "error",
          "ename": "ValueError",
          "evalue": "cannot reshape array of size 8 into shape (6,4,4,1)",
          "traceback": [
            "\u001b[0;31m---------------------------------------------------------------------------\u001b[0m",
            "\u001b[0;31mValueError\u001b[0m                                Traceback (most recent call last)",
            "\u001b[0;32m/tmp/ipython-input-3150788584.py\u001b[0m in \u001b[0;36m<cell line: 0>\u001b[0;34m()\u001b[0m\n\u001b[1;32m      2\u001b[0m \u001b[0;34m\u001b[0m\u001b[0m\n\u001b[1;32m      3\u001b[0m \u001b[0;34m\u001b[0m\u001b[0m\n\u001b[0;32m----> 4\u001b[0;31m \u001b[0mweights_new\u001b[0m \u001b[0;34m=\u001b[0m \u001b[0mweights\u001b[0m\u001b[0;34m.\u001b[0m\u001b[0mreshape\u001b[0m\u001b[0;34m(\u001b[0m\u001b[0;36m6\u001b[0m\u001b[0;34m,\u001b[0m\u001b[0;36m4\u001b[0m\u001b[0;34m,\u001b[0m\u001b[0;36m4\u001b[0m\u001b[0;34m,\u001b[0m\u001b[0;36m1\u001b[0m\u001b[0;34m)\u001b[0m\u001b[0;34m\u001b[0m\u001b[0;34m\u001b[0m\u001b[0m\n\u001b[0m\u001b[1;32m      5\u001b[0m \u001b[0mweights_new\u001b[0m\u001b[0;34m\u001b[0m\u001b[0;34m\u001b[0m\u001b[0m\n",
            "\u001b[0;31mValueError\u001b[0m: cannot reshape array of size 8 into shape (6,4,4,1)"
          ]
        }
      ]
    }
  ],
  "metadata": {
    "colab": {
      "provenance": [],
      "authorship_tag": "ABX9TyOCPa0F/UH2XQAtcn/4MWDZ"
    },
    "kernelspec": {
      "display_name": "Python 3",
      "name": "python3"
    },
    "language_info": {
      "name": "python"
    }
  },
  "nbformat": 4,
  "nbformat_minor": 0
}